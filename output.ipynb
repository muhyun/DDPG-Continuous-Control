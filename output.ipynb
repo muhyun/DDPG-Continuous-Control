{
 "metadata": {
  "kernelspec": {
   "display_name": "Python 3",
   "language": "python",
   "name": "python3"
  },
  "language_info": {
   "codemirror_mode": {
    "name": "ipython",
    "version": 3
   },
   "file_extension": ".py",
   "mimetype": "text/x-python",
   "name": "python",
   "nbconvert_exporter": "python",
   "pygments_lexer": "ipython3",
   "version": "3.6.5"
  },
  "name": ""
 },
 "nbformat": 3,
 "nbformat_minor": 0,
 "worksheets": [
  {
   "cells": [
    {
     "cell_type": "markdown",
     "metadata": {},
     "source": [
      "# Continuous Control\n",
      "\n",
      "---\n",
      "\n",
      "In this notebook, you will learn how to use the Unity ML-Agents environment for the second project of the [Deep Reinforcement Learning Nanodegree](https://www.udacity.com/course/deep-reinforcement-learning-nanodegree--nd893) program.\n",
      "\n",
      "### 1. Start the Environment\n",
      "\n",
      "We begin by importing the necessary packages.  If the code cell below returns an error, please revisit the project instructions to double-check that you have installed [Unity ML-Agents](https://github.com/Unity-Technologies/ml-agents/blob/master/docs/Installation.md) and [NumPy](http://www.numpy.org/)."
     ]
    },
    {
     "cell_type": "code",
     "collapsed": false,
     "input": [
      "%load_ext autoreload\n",
      "%autoreload 2"
     ],
     "language": "python",
     "metadata": {},
     "outputs": [],
     "prompt_number": 1
    },
    {
     "cell_type": "code",
     "collapsed": false,
     "input": [
      "# !pip install unityagents"
     ],
     "language": "python",
     "metadata": {},
     "outputs": [],
     "prompt_number": 2
    },
    {
     "cell_type": "code",
     "collapsed": false,
     "input": [
      "from unityagents import UnityEnvironment\n",
      "import numpy as np"
     ],
     "language": "python",
     "metadata": {},
     "outputs": [],
     "prompt_number": 3
    },
    {
     "cell_type": "markdown",
     "metadata": {},
     "source": [
      "Next, we will start the environment!  **_Before running the code cell below_**, change the `file_name` parameter to match the location of the Unity environment that you downloaded.\n",
      "\n",
      "- **Mac**: `\"path/to/Reacher.app\"`\n",
      "- **Windows** (x86): `\"path/to/Reacher_Windows_x86/Reacher.exe\"`\n",
      "- **Windows** (x86_64): `\"path/to/Reacher_Windows_x86_64/Reacher.exe\"`\n",
      "- **Linux** (x86): `\"path/to/Reacher_Linux/Reacher.x86\"`\n",
      "- **Linux** (x86_64): `\"path/to/Reacher_Linux/Reacher.x86_64\"`\n",
      "- **Linux** (x86, headless): `\"path/to/Reacher_Linux_NoVis/Reacher.x86\"`\n",
      "- **Linux** (x86_64, headless): `\"path/to/Reacher_Linux_NoVis/Reacher.x86_64\"`\n",
      "\n",
      "For instance, if you are using a Mac, then you downloaded `Reacher.app`.  If this file is in the same folder as the notebook, then the line below should appear as follows:\n",
      "```\n",
      "env = UnityEnvironment(file_name=\"Reacher.app\")\n",
      "```"
     ]
    },
    {
     "cell_type": "code",
     "collapsed": false,
     "input": [
      "env = UnityEnvironment(file_name='Reacher_Linux_NoVis/Reacher.x86_64')"
     ],
     "language": "python",
     "metadata": {},
     "outputs": [
      {
       "output_type": "stream",
       "stream": "stderr",
       "text": [
        "INFO:unityagents:\n",
        "'Academy' started successfully!\n",
        "Unity Academy name: Academy\n",
        "        Number of Brains: 1\n",
        "        Number of External Brains : 1\n",
        "        Lesson number : 0\n",
        "        Reset Parameters :\n",
        "\t\tgoal_size -> 5.0\n",
        "\t\tgoal_speed -> 1.0\n",
        "Unity brain name: ReacherBrain\n",
        "        Number of Visual Observations (per agent): 0\n",
        "        Vector Observation space type: continuous\n",
        "        Vector Observation space size (per agent): 33\n",
        "        Number of stacked Vector Observation: 1\n",
        "        Vector Action space type: continuous\n",
        "        Vector Action space size (per agent): 4\n",
        "        Vector Action descriptions: , , , \n"
       ]
      }
     ],
     "prompt_number": 4
    },
    {
     "cell_type": "markdown",
     "metadata": {},
     "source": [
      "Environments contain **_brains_** which are responsible for deciding the actions of their associated agents. Here we check for the first brain available, and set it as the default brain we will be controlling from Python."
     ]
    },
    {
     "cell_type": "code",
     "collapsed": false,
     "input": [
      "# get the default brain\n",
      "brain_name = env.brain_names[0]\n",
      "brain = env.brains[brain_name]"
     ],
     "language": "python",
     "metadata": {},
     "outputs": [],
     "prompt_number": 5
    },
    {
     "cell_type": "markdown",
     "metadata": {},
     "source": [
      "### 2. Examine the State and Action Spaces\n",
      "\n",
      "In this environment, a double-jointed arm can move to target locations. A reward of `+0.1` is provided for each step that the agent's hand is in the goal location. Thus, the goal of your agent is to maintain its position at the target location for as many time steps as possible.\n",
      "\n",
      "The observation space consists of `33` variables corresponding to position, rotation, velocity, and angular velocities of the arm.  Each action is a vector with four numbers, corresponding to torque applicable to two joints.  Every entry in the action vector must be a number between `-1` and `1`.\n",
      "\n",
      "Run the code cell below to print some information about the environment."
     ]
    },
    {
     "cell_type": "code",
     "collapsed": false,
     "input": [
      "# reset the environment\n",
      "env_info = env.reset(train_mode=True)[brain_name]\n",
      "\n",
      "# number of agents\n",
      "num_agents = len(env_info.agents)\n",
      "print('Number of agents:', num_agents)\n",
      "\n",
      "# size of each action\n",
      "action_size = brain.vector_action_space_size\n",
      "print('Size of each action:', action_size)\n",
      "\n",
      "# examine the state space \n",
      "states = env_info.vector_observations\n",
      "state_size = states.shape[1]\n",
      "print('There are {} agents. Each observes a state with length: {}'.format(states.shape[0], state_size))\n",
      "print('The state for the first agent looks like:', states[0])"
     ],
     "language": "python",
     "metadata": {},
     "outputs": [
      {
       "output_type": "stream",
       "stream": "stdout",
       "text": [
        "Number of agents: 20\n",
        "Size of each action: 4\n",
        "There are 20 agents. Each observes a state with length: 33\n",
        "The state for the first agent looks like: [ 0.00000000e+00 -4.00000000e+00  0.00000000e+00  1.00000000e+00\n",
        " -0.00000000e+00 -0.00000000e+00 -4.37113883e-08  0.00000000e+00\n",
        "  0.00000000e+00  0.00000000e+00  0.00000000e+00  0.00000000e+00\n",
        "  0.00000000e+00  0.00000000e+00 -1.00000000e+01  0.00000000e+00\n",
        "  1.00000000e+00 -0.00000000e+00 -0.00000000e+00 -4.37113883e-08\n",
        "  0.00000000e+00  0.00000000e+00  0.00000000e+00  0.00000000e+00\n",
        "  0.00000000e+00  0.00000000e+00  5.75471878e+00 -1.00000000e+00\n",
        "  5.55726624e+00  0.00000000e+00  1.00000000e+00  0.00000000e+00\n",
        " -1.68164849e-01]\n"
       ]
      }
     ],
     "prompt_number": 6
    },
    {
     "cell_type": "markdown",
     "metadata": {},
     "source": [
      "### 3. Take Random Actions in the Environment\n",
      "\n",
      "In the next code cell, you will learn how to use the Python API to control the agent and receive feedback from the environment.\n",
      "\n",
      "Once this cell is executed, you will watch the agent's performance, if it selects an action at random with each time step.  A window should pop up that allows you to observe the agent, as it moves through the environment.  \n",
      "\n",
      "Of course, as part of the project, you'll have to change the code so that the agent is able to use its experience to gradually choose better actions when interacting with the environment!"
     ]
    },
    {
     "cell_type": "code",
     "collapsed": false,
     "input": [
      "env_info = env.reset(train_mode=True)[brain_name]     # reset the environment    \n",
      "states = env_info.vector_observations                  # get the current state (for each agent)\n",
      "scores = np.zeros(num_agents)                          # initialize the score (for each agent)\n",
      "while True:\n",
      "    actions = np.random.randn(num_agents, action_size) # select an action (for each agent)\n",
      "    actions = np.clip(actions, -1, 1)                  # all actions between -1 and 1\n",
      "    env_info = env.step(actions)[brain_name]           # send all actions to tne environment\n",
      "    next_states = env_info.vector_observations         # get next state (for each agent)\n",
      "    rewards = env_info.rewards                         # get reward (for each agent)\n",
      "    dones = env_info.local_done                        # see if episode finished\n",
      "    scores += env_info.rewards                         # update the score (for each agent)\n",
      "    states = next_states                               # roll over states to next time step\n",
      "    if np.any(dones):                                  # exit loop if episode finished\n",
      "        break\n",
      "print('Total score (averaged over agents) this episode: {}'.format(np.mean(scores)))"
     ],
     "language": "python",
     "metadata": {},
     "outputs": [
      {
       "output_type": "stream",
       "stream": "stdout",
       "text": [
        "Total score (averaged over agents) this episode: 0.2454999945126474\n"
       ]
      }
     ],
     "prompt_number": 7
    },
    {
     "cell_type": "markdown",
     "metadata": {},
     "source": [
      "### 4. It's Your Turn!\n",
      "\n",
      "Now it's your turn to train your own agent to solve the environment!  When training the environment, set `train_mode=True`, so that the line for resetting the environment looks like the following:\n",
      "```python\n",
      "env_info = env.reset(train_mode=True)[brain_name]\n",
      "```"
     ]
    },
    {
     "cell_type": "code",
     "collapsed": false,
     "input": [
      "import torch\n",
      "\n",
      "from ddpg_agent import Agent\n",
      "from collections import deque\n",
      "import matplotlib.pyplot as plt\n",
      "%matplotlib inline\n",
      "import time\n",
      "\n",
      "agent = Agent(state_size=state_size, action_size=action_size, random_seed=10)"
     ],
     "language": "python",
     "metadata": {},
     "outputs": [],
     "prompt_number": 8
    },
    {
     "cell_type": "code",
     "collapsed": false,
     "input": [
      "def ddpg(n_episodes=400):\n",
      "\n",
      "    scores_deque = deque(maxlen=100)\n",
      "    scores_hist = []\n",
      "    max_score = 0\n",
      "    t0 = time.time()\n",
      "\n",
      "    for i_episode in range(1, n_episodes+1):\n",
      "        env_info = env.reset(train_mode=True)[brain_name]\n",
      "        states = env_info.vector_observations\n",
      "        scores = np.zeros(num_agents)\n",
      "        agent.reset()\n",
      "        t = 0\n",
      "\n",
      "        while True:\n",
      "            t += 1\n",
      "            actions = agent.act(states)\n",
      "            env_info = env.step(actions)[brain_name]\n",
      "            next_states = env_info.vector_observations\n",
      "            rewards = env_info.rewards\n",
      "            dones = env_info.local_done\n",
      "            scores += rewards\n",
      "            \n",
      "            agent.step(states, actions, rewards, next_states, dones)\n",
      "            states = next_states\n",
      "\n",
      "            if np.any(dones):\n",
      "                break \n",
      "         \n",
      "        mean_score = np.mean(scores)\n",
      "        scores_deque.append(mean_score)\n",
      "        scores_hist.append(mean_score)\n",
      "                    \n",
      "        print('\\rEpisode {}\\tAverage Score: {:.2f}\\tScore: {:.2f} (max {:.2f}) in {} steps'.format(i_episode, np.mean(scores_deque), mean_score, max_score, t), end=\"\")\n",
      "        \n",
      "        if i_episode % 100 == 0:\n",
      "            t = time.time() - t0\n",
      "            t0 = time.time()\n",
      "            print('\\rEpisode {}\\tAverage Score: {:.2f}\\t10 episodes took {:.2f} seconds'.format(i_episode, np.mean(scores_deque),t))   \n",
      "        \n",
      "        if np.mean(scores_deque) >= 30:\n",
      "            print('\\rEnvironment has been solved in {} episode with average score {:.2f}'.format(i_episode, np.mean(scores_deque)))\n",
      "            torch.save(agent.actor_local.state_dict(), 'checkpoint_actor.pth')\n",
      "            torch.save(agent.critic_local.state_dict(), 'checkpoint_critic.pth')\n",
      "            break\n",
      "            \n",
      "    return scores_hist"
     ],
     "language": "python",
     "metadata": {},
     "outputs": [],
     "prompt_number": 9
    },
    {
     "cell_type": "code",
     "collapsed": false,
     "input": [
      "%%time\n",
      "\n",
      "scores_hist = ddpg()\n",
      "\n",
      "fig = plt.figure()\n",
      "ax = fig.add_subplot(111)\n",
      "plt.plot(np.arange(1, len(scores_hist)+1), scores_hist)\n",
      "plt.ylabel('Score')\n",
      "plt.xlabel('Episode #')\n",
      "plt.show()"
     ],
     "language": "python",
     "metadata": {},
     "outputs": [
      {
       "output_type": "stream",
       "stream": "stdout",
       "text": [
        "\r",
        "Episode 1\tAverage Score: 0.76\tScore: 0.76 (max 0.00) in 1001 steps"
       ]
      },
      {
       "output_type": "stream",
       "stream": "stdout",
       "text": [
        "\r",
        "Episode 2\tAverage Score: 0.70\tScore: 0.64 (max 0.00) in 1001 steps"
       ]
      },
      {
       "output_type": "stream",
       "stream": "stdout",
       "text": [
        "\r",
        "Episode 3\tAverage Score: 0.80\tScore: 0.99 (max 0.00) in 1001 steps"
       ]
      },
      {
       "output_type": "stream",
       "stream": "stdout",
       "text": [
        "\r",
        "Episode 4\tAverage Score: 0.86\tScore: 1.03 (max 0.00) in 1001 steps"
       ]
      },
      {
       "output_type": "stream",
       "stream": "stdout",
       "text": [
        "\r",
        "Episode 5\tAverage Score: 0.81\tScore: 0.60 (max 0.00) in 1001 steps"
       ]
      },
      {
       "output_type": "stream",
       "stream": "stdout",
       "text": [
        "\r",
        "Episode 6\tAverage Score: 0.78\tScore: 0.67 (max 0.00) in 1001 steps"
       ]
      },
      {
       "output_type": "stream",
       "stream": "stdout",
       "text": [
        "\r",
        "Episode 7\tAverage Score: 0.80\tScore: 0.91 (max 0.00) in 1001 steps"
       ]
      },
      {
       "output_type": "stream",
       "stream": "stdout",
       "text": [
        "\r",
        "Episode 8\tAverage Score: 0.83\tScore: 1.04 (max 0.00) in 1001 steps"
       ]
      },
      {
       "output_type": "stream",
       "stream": "stdout",
       "text": [
        "\r",
        "Episode 9\tAverage Score: 0.89\tScore: 1.36 (max 0.00) in 1001 steps"
       ]
      },
      {
       "output_type": "stream",
       "stream": "stdout",
       "text": [
        "\r",
        "Episode 10\tAverage Score: 1.00\tScore: 2.03 (max 0.00) in 1001 steps"
       ]
      },
      {
       "output_type": "stream",
       "stream": "stdout",
       "text": [
        "\r",
        "Episode 11\tAverage Score: 1.07\tScore: 1.75 (max 0.00) in 1001 steps"
       ]
      },
      {
       "output_type": "stream",
       "stream": "stdout",
       "text": [
        "\r",
        "Episode 12\tAverage Score: 1.11\tScore: 1.57 (max 0.00) in 1001 steps"
       ]
      },
      {
       "output_type": "stream",
       "stream": "stdout",
       "text": [
        "\r",
        "Episode 13\tAverage Score: 1.26\tScore: 2.98 (max 0.00) in 1001 steps"
       ]
      },
      {
       "output_type": "stream",
       "stream": "stdout",
       "text": [
        "\r",
        "Episode 14\tAverage Score: 1.46\tScore: 4.04 (max 0.00) in 1001 steps"
       ]
      },
      {
       "output_type": "stream",
       "stream": "stdout",
       "text": [
        "\r",
        "Episode 15\tAverage Score: 1.61\tScore: 3.71 (max 0.00) in 1001 steps"
       ]
      },
      {
       "output_type": "stream",
       "stream": "stdout",
       "text": [
        "\r",
        "Episode 16\tAverage Score: 1.77\tScore: 4.23 (max 0.00) in 1001 steps"
       ]
      },
      {
       "output_type": "stream",
       "stream": "stdout",
       "text": [
        "\r",
        "Episode 17\tAverage Score: 1.93\tScore: 4.45 (max 0.00) in 1001 steps"
       ]
      },
      {
       "output_type": "stream",
       "stream": "stdout",
       "text": [
        "\r",
        "Episode 18\tAverage Score: 2.06\tScore: 4.22 (max 0.00) in 1001 steps"
       ]
      },
      {
       "output_type": "stream",
       "stream": "stdout",
       "text": [
        "\r",
        "Episode 19\tAverage Score: 2.21\tScore: 4.91 (max 0.00) in 1001 steps"
       ]
      },
      {
       "output_type": "stream",
       "stream": "stdout",
       "text": [
        "\r",
        "Episode 20\tAverage Score: 2.43\tScore: 6.63 (max 0.00) in 1001 steps"
       ]
      },
      {
       "output_type": "stream",
       "stream": "stdout",
       "text": [
        "\r",
        "Episode 21\tAverage Score: 2.58\tScore: 5.74 (max 0.00) in 1001 steps"
       ]
      },
      {
       "output_type": "stream",
       "stream": "stdout",
       "text": [
        "\r",
        "Episode 22\tAverage Score: 2.80\tScore: 7.29 (max 0.00) in 1001 steps"
       ]
      },
      {
       "output_type": "stream",
       "stream": "stdout",
       "text": [
        "\r",
        "Episode 23\tAverage Score: 2.99\tScore: 7.17 (max 0.00) in 1001 steps"
       ]
      },
      {
       "output_type": "stream",
       "stream": "stdout",
       "text": [
        "\r",
        "Episode 24\tAverage Score: 3.19\tScore: 7.92 (max 0.00) in 1001 steps"
       ]
      },
      {
       "output_type": "stream",
       "stream": "stdout",
       "text": [
        "\r",
        "Episode 25\tAverage Score: 3.40\tScore: 8.39 (max 0.00) in 1001 steps"
       ]
      },
      {
       "output_type": "stream",
       "stream": "stdout",
       "text": [
        "\r",
        "Episode 26\tAverage Score: 3.70\tScore: 11.08 (max 0.00) in 1001 steps"
       ]
      },
      {
       "output_type": "stream",
       "stream": "stdout",
       "text": [
        "\r",
        "Episode 27\tAverage Score: 3.99\tScore: 11.48 (max 0.00) in 1001 steps"
       ]
      },
      {
       "output_type": "stream",
       "stream": "stdout",
       "text": [
        "\r",
        "Episode 28\tAverage Score: 4.29\tScore: 12.60 (max 0.00) in 1001 steps"
       ]
      },
      {
       "output_type": "stream",
       "stream": "stdout",
       "text": [
        "\r",
        "Episode 29\tAverage Score: 4.59\tScore: 12.85 (max 0.00) in 1001 steps"
       ]
      },
      {
       "output_type": "stream",
       "stream": "stdout",
       "text": [
        "\r",
        "Episode 30\tAverage Score: 4.92\tScore: 14.55 (max 0.00) in 1001 steps"
       ]
      },
      {
       "output_type": "stream",
       "stream": "stdout",
       "text": [
        "\r",
        "Episode 31\tAverage Score: 5.27\tScore: 15.79 (max 0.00) in 1001 steps"
       ]
      },
      {
       "output_type": "stream",
       "stream": "stdout",
       "text": [
        "\r",
        "Episode 32\tAverage Score: 5.67\tScore: 18.01 (max 0.00) in 1001 steps"
       ]
      },
      {
       "output_type": "stream",
       "stream": "stdout",
       "text": [
        "\r",
        "Episode 33\tAverage Score: 6.09\tScore: 19.40 (max 0.00) in 1001 steps"
       ]
      },
      {
       "output_type": "stream",
       "stream": "stdout",
       "text": [
        "\r",
        "Episode 34\tAverage Score: 6.44\tScore: 18.21 (max 0.00) in 1001 steps"
       ]
      },
      {
       "output_type": "stream",
       "stream": "stdout",
       "text": [
        "\r",
        "Episode 35\tAverage Score: 6.78\tScore: 18.41 (max 0.00) in 1001 steps"
       ]
      },
      {
       "output_type": "stream",
       "stream": "stdout",
       "text": [
        "\r",
        "Episode 36\tAverage Score: 7.19\tScore: 21.57 (max 0.00) in 1001 steps"
       ]
      },
      {
       "output_type": "stream",
       "stream": "stdout",
       "text": [
        "\r",
        "Episode 37\tAverage Score: 7.63\tScore: 23.29 (max 0.00) in 1001 steps"
       ]
      },
      {
       "output_type": "stream",
       "stream": "stdout",
       "text": [
        "\r",
        "Episode 38\tAverage Score: 8.02\tScore: 22.32 (max 0.00) in 1001 steps"
       ]
      },
      {
       "output_type": "stream",
       "stream": "stdout",
       "text": [
        "\r",
        "Episode 39\tAverage Score: 8.47\tScore: 25.88 (max 0.00) in 1001 steps"
       ]
      },
      {
       "output_type": "stream",
       "stream": "stdout",
       "text": [
        "\r",
        "Episode 40\tAverage Score: 9.03\tScore: 30.64 (max 0.00) in 1001 steps"
       ]
      },
      {
       "output_type": "stream",
       "stream": "stdout",
       "text": [
        "\r",
        "Episode 41\tAverage Score: 9.55\tScore: 30.30 (max 0.00) in 1001 steps"
       ]
      },
      {
       "output_type": "stream",
       "stream": "stdout",
       "text": [
        "\r",
        "Episode 42\tAverage Score: 10.16\tScore: 35.25 (max 0.00) in 1001 steps"
       ]
      },
      {
       "output_type": "stream",
       "stream": "stdout",
       "text": [
        "\r",
        "Episode 43\tAverage Score: 10.68\tScore: 32.50 (max 0.00) in 1001 steps"
       ]
      },
      {
       "output_type": "stream",
       "stream": "stdout",
       "text": [
        "\r",
        "Episode 44\tAverage Score: 11.14\tScore: 31.15 (max 0.00) in 1001 steps"
       ]
      },
      {
       "output_type": "stream",
       "stream": "stdout",
       "text": [
        "\r",
        "Episode 45\tAverage Score: 11.64\tScore: 33.48 (max 0.00) in 1001 steps"
       ]
      },
      {
       "output_type": "stream",
       "stream": "stdout",
       "text": [
        "\r",
        "Episode 46\tAverage Score: 12.16\tScore: 35.54 (max 0.00) in 1001 steps"
       ]
      },
      {
       "output_type": "stream",
       "stream": "stdout",
       "text": [
        "\r",
        "Episode 47\tAverage Score: 12.70\tScore: 37.48 (max 0.00) in 1001 steps"
       ]
      },
      {
       "output_type": "stream",
       "stream": "stdout",
       "text": [
        "\r",
        "Episode 48\tAverage Score: 13.21\tScore: 37.24 (max 0.00) in 1001 steps"
       ]
      },
      {
       "output_type": "stream",
       "stream": "stdout",
       "text": [
        "\r",
        "Episode 49\tAverage Score: 13.69\tScore: 36.91 (max 0.00) in 1001 steps"
       ]
      },
      {
       "output_type": "stream",
       "stream": "stdout",
       "text": [
        "\r",
        "Episode 50\tAverage Score: 14.17\tScore: 37.28 (max 0.00) in 1001 steps"
       ]
      },
      {
       "output_type": "stream",
       "stream": "stdout",
       "text": [
        "\r",
        "Episode 51\tAverage Score: 14.58\tScore: 35.11 (max 0.00) in 1001 steps"
       ]
      },
      {
       "output_type": "stream",
       "stream": "stdout",
       "text": [
        "\r",
        "Episode 52\tAverage Score: 15.00\tScore: 36.53 (max 0.00) in 1001 steps"
       ]
      },
      {
       "output_type": "stream",
       "stream": "stdout",
       "text": [
        "\r",
        "Episode 53\tAverage Score: 15.44\tScore: 38.33 (max 0.00) in 1001 steps"
       ]
      },
      {
       "output_type": "stream",
       "stream": "stdout",
       "text": [
        "\r",
        "Episode 54\tAverage Score: 15.85\tScore: 37.50 (max 0.00) in 1001 steps"
       ]
      },
      {
       "output_type": "stream",
       "stream": "stdout",
       "text": [
        "\r",
        "Episode 55\tAverage Score: 16.20\tScore: 35.49 (max 0.00) in 1001 steps"
       ]
      },
      {
       "output_type": "stream",
       "stream": "stdout",
       "text": [
        "\r",
        "Episode 56\tAverage Score: 16.50\tScore: 32.74 (max 0.00) in 1001 steps"
       ]
      },
      {
       "output_type": "stream",
       "stream": "stdout",
       "text": [
        "\r",
        "Episode 57\tAverage Score: 16.87\tScore: 37.37 (max 0.00) in 1001 steps"
       ]
      },
      {
       "output_type": "stream",
       "stream": "stdout",
       "text": [
        "\r",
        "Episode 58\tAverage Score: 17.22\tScore: 37.64 (max 0.00) in 1001 steps"
       ]
      },
      {
       "output_type": "stream",
       "stream": "stdout",
       "text": [
        "\r",
        "Episode 59\tAverage Score: 17.58\tScore: 38.22 (max 0.00) in 1001 steps"
       ]
      },
      {
       "output_type": "stream",
       "stream": "stdout",
       "text": [
        "\r",
        "Episode 60\tAverage Score: 17.92\tScore: 38.20 (max 0.00) in 1001 steps"
       ]
      },
      {
       "output_type": "stream",
       "stream": "stdout",
       "text": [
        "\r",
        "Episode 61\tAverage Score: 18.21\tScore: 35.25 (max 0.00) in 1001 steps"
       ]
      },
      {
       "output_type": "stream",
       "stream": "stdout",
       "text": [
        "\r",
        "Episode 62\tAverage Score: 18.48\tScore: 35.01 (max 0.00) in 1001 steps"
       ]
      },
      {
       "output_type": "stream",
       "stream": "stdout",
       "text": [
        "\r",
        "Episode 63\tAverage Score: 18.76\tScore: 36.06 (max 0.00) in 1001 steps"
       ]
      },
      {
       "output_type": "stream",
       "stream": "stdout",
       "text": [
        "\r",
        "Episode 64\tAverage Score: 19.03\tScore: 35.89 (max 0.00) in 1001 steps"
       ]
      },
      {
       "output_type": "stream",
       "stream": "stdout",
       "text": [
        "\r",
        "Episode 65\tAverage Score: 19.30\tScore: 36.95 (max 0.00) in 1001 steps"
       ]
      },
      {
       "output_type": "stream",
       "stream": "stdout",
       "text": [
        "\r",
        "Episode 66\tAverage Score: 19.55\tScore: 35.73 (max 0.00) in 1001 steps"
       ]
      },
      {
       "output_type": "stream",
       "stream": "stdout",
       "text": [
        "\r",
        "Episode 67\tAverage Score: 19.71\tScore: 30.55 (max 0.00) in 1001 steps"
       ]
      },
      {
       "output_type": "stream",
       "stream": "stdout",
       "text": [
        "\r",
        "Episode 68\tAverage Score: 19.90\tScore: 32.52 (max 0.00) in 1001 steps"
       ]
      },
      {
       "output_type": "stream",
       "stream": "stdout",
       "text": [
        "\r",
        "Episode 69\tAverage Score: 20.08\tScore: 31.92 (max 0.00) in 1001 steps"
       ]
      },
      {
       "output_type": "stream",
       "stream": "stdout",
       "text": [
        "\r",
        "Episode 70\tAverage Score: 20.23\tScore: 30.52 (max 0.00) in 1001 steps"
       ]
      },
      {
       "output_type": "stream",
       "stream": "stdout",
       "text": [
        "\r",
        "Episode 71\tAverage Score: 20.41\tScore: 33.14 (max 0.00) in 1001 steps"
       ]
      },
      {
       "output_type": "stream",
       "stream": "stdout",
       "text": [
        "\r",
        "Episode 72\tAverage Score: 20.59\tScore: 33.33 (max 0.00) in 1001 steps"
       ]
      },
      {
       "output_type": "stream",
       "stream": "stdout",
       "text": [
        "\r",
        "Episode 73\tAverage Score: 20.79\tScore: 35.04 (max 0.00) in 1001 steps"
       ]
      },
      {
       "output_type": "stream",
       "stream": "stdout",
       "text": [
        "\r",
        "Episode 74\tAverage Score: 20.91\tScore: 30.10 (max 0.00) in 1001 steps"
       ]
      },
      {
       "output_type": "stream",
       "stream": "stdout",
       "text": [
        "\r",
        "Episode 75\tAverage Score: 21.03\tScore: 30.15 (max 0.00) in 1001 steps"
       ]
      },
      {
       "output_type": "stream",
       "stream": "stdout",
       "text": [
        "\r",
        "Episode 76\tAverage Score: 21.08\tScore: 24.72 (max 0.00) in 1001 steps"
       ]
      },
      {
       "output_type": "stream",
       "stream": "stdout",
       "text": [
        "\r",
        "Episode 77\tAverage Score: 21.19\tScore: 29.68 (max 0.00) in 1001 steps"
       ]
      },
      {
       "output_type": "stream",
       "stream": "stdout",
       "text": [
        "\r",
        "Episode 78\tAverage Score: 21.33\tScore: 31.97 (max 0.00) in 1001 steps"
       ]
      },
      {
       "output_type": "stream",
       "stream": "stdout",
       "text": [
        "\r",
        "Episode 79\tAverage Score: 21.45\tScore: 30.74 (max 0.00) in 1001 steps"
       ]
      },
      {
       "output_type": "stream",
       "stream": "stdout",
       "text": [
        "\r",
        "Episode 80\tAverage Score: 21.59\tScore: 32.30 (max 0.00) in 1001 steps"
       ]
      },
      {
       "output_type": "stream",
       "stream": "stdout",
       "text": [
        "\r",
        "Episode 81\tAverage Score: 21.74\tScore: 33.68 (max 0.00) in 1001 steps"
       ]
      },
      {
       "output_type": "stream",
       "stream": "stdout",
       "text": [
        "\r",
        "Episode 82\tAverage Score: 21.84\tScore: 30.05 (max 0.00) in 1001 steps"
       ]
      },
      {
       "output_type": "stream",
       "stream": "stdout",
       "text": [
        "\r",
        "Episode 83\tAverage Score: 21.92\tScore: 28.96 (max 0.00) in 1001 steps"
       ]
      },
      {
       "output_type": "stream",
       "stream": "stdout",
       "text": [
        "\r",
        "Episode 84\tAverage Score: 21.99\tScore: 27.71 (max 0.00) in 1001 steps"
       ]
      },
      {
       "output_type": "stream",
       "stream": "stdout",
       "text": [
        "\r",
        "Episode 85\tAverage Score: 22.05\tScore: 26.90 (max 0.00) in 1001 steps"
       ]
      },
      {
       "output_type": "stream",
       "stream": "stdout",
       "text": [
        "\r",
        "Episode 86\tAverage Score: 22.06\tScore: 22.54 (max 0.00) in 1001 steps"
       ]
      },
      {
       "output_type": "stream",
       "stream": "stdout",
       "text": [
        "\r",
        "Episode 87\tAverage Score: 22.12\tScore: 27.18 (max 0.00) in 1001 steps"
       ]
      },
      {
       "output_type": "stream",
       "stream": "stdout",
       "text": [
        "\r",
        "Episode 88\tAverage Score: 22.21\tScore: 30.08 (max 0.00) in 1001 steps"
       ]
      },
      {
       "output_type": "stream",
       "stream": "stdout",
       "text": [
        "\r",
        "Episode 89\tAverage Score: 22.31\tScore: 31.12 (max 0.00) in 1001 steps"
       ]
      },
      {
       "output_type": "stream",
       "stream": "stdout",
       "text": [
        "\r",
        "Episode 90\tAverage Score: 22.41\tScore: 31.38 (max 0.00) in 1001 steps"
       ]
      },
      {
       "output_type": "stream",
       "stream": "stdout",
       "text": [
        "\r",
        "Episode 91\tAverage Score: 22.49\tScore: 29.98 (max 0.00) in 1001 steps"
       ]
      },
      {
       "output_type": "stream",
       "stream": "stdout",
       "text": [
        "\r",
        "Episode 92\tAverage Score: 22.52\tScore: 24.83 (max 0.00) in 1001 steps"
       ]
      },
      {
       "output_type": "stream",
       "stream": "stdout",
       "text": [
        "\r",
        "Episode 93\tAverage Score: 22.57\tScore: 27.20 (max 0.00) in 1001 steps"
       ]
      },
      {
       "output_type": "stream",
       "stream": "stdout",
       "text": [
        "\r",
        "Episode 94\tAverage Score: 22.61\tScore: 26.56 (max 0.00) in 1001 steps"
       ]
      },
      {
       "output_type": "stream",
       "stream": "stdout",
       "text": [
        "\r",
        "Episode 95\tAverage Score: 22.71\tScore: 32.52 (max 0.00) in 1001 steps"
       ]
      },
      {
       "output_type": "stream",
       "stream": "stdout",
       "text": [
        "\r",
        "Episode 96\tAverage Score: 22.83\tScore: 33.60 (max 0.00) in 1001 steps"
       ]
      },
      {
       "output_type": "stream",
       "stream": "stdout",
       "text": [
        "\r",
        "Episode 97\tAverage Score: 22.97\tScore: 37.04 (max 0.00) in 1001 steps"
       ]
      },
      {
       "output_type": "stream",
       "stream": "stdout",
       "text": [
        "\r",
        "Episode 98\tAverage Score: 23.08\tScore: 33.47 (max 0.00) in 1001 steps"
       ]
      },
      {
       "output_type": "stream",
       "stream": "stdout",
       "text": [
        "\r",
        "Episode 99\tAverage Score: 23.19\tScore: 33.72 (max 0.00) in 1001 steps"
       ]
      },
      {
       "output_type": "stream",
       "stream": "stdout",
       "text": [
        "\r",
        "Episode 100\tAverage Score: 23.29\tScore: 33.87 (max 0.00) in 1001 steps\r",
        "Episode 100\tAverage Score: 23.29\t10 episodes took 1749.16 seconds\n"
       ]
      },
      {
       "output_type": "stream",
       "stream": "stdout",
       "text": [
        "\r",
        "Episode 101\tAverage Score: 23.59\tScore: 30.43 (max 0.00) in 1001 steps"
       ]
      },
      {
       "output_type": "stream",
       "stream": "stdout",
       "text": [
        "\r",
        "Episode 102\tAverage Score: 23.89\tScore: 30.45 (max 0.00) in 1001 steps"
       ]
      },
      {
       "output_type": "stream",
       "stream": "stdout",
       "text": [
        "\r",
        "Episode 103\tAverage Score: 24.14\tScore: 26.35 (max 0.00) in 1001 steps"
       ]
      },
      {
       "output_type": "stream",
       "stream": "stdout",
       "text": [
        "\r",
        "Episode 104\tAverage Score: 24.39\tScore: 25.90 (max 0.00) in 1001 steps"
       ]
      },
      {
       "output_type": "stream",
       "stream": "stdout",
       "text": [
        "\r",
        "Episode 105\tAverage Score: 24.70\tScore: 31.50 (max 0.00) in 1001 steps"
       ]
      },
      {
       "output_type": "stream",
       "stream": "stdout",
       "text": [
        "\r",
        "Episode 106\tAverage Score: 25.03\tScore: 34.05 (max 0.00) in 1001 steps"
       ]
      },
      {
       "output_type": "stream",
       "stream": "stdout",
       "text": [
        "\r",
        "Episode 107\tAverage Score: 25.33\tScore: 30.51 (max 0.00) in 1001 steps"
       ]
      },
      {
       "output_type": "stream",
       "stream": "stdout",
       "text": [
        "\r",
        "Episode 108\tAverage Score: 25.64\tScore: 31.89 (max 0.00) in 1001 steps"
       ]
      },
      {
       "output_type": "stream",
       "stream": "stdout",
       "text": [
        "\r",
        "Episode 109\tAverage Score: 25.94\tScore: 32.01 (max 0.00) in 1001 steps"
       ]
      },
      {
       "output_type": "stream",
       "stream": "stdout",
       "text": [
        "\r",
        "Episode 110\tAverage Score: 26.22\tScore: 29.81 (max 0.00) in 1001 steps"
       ]
      },
      {
       "output_type": "stream",
       "stream": "stdout",
       "text": [
        "\r",
        "Episode 111\tAverage Score: 26.47\tScore: 26.90 (max 0.00) in 1001 steps"
       ]
      },
      {
       "output_type": "stream",
       "stream": "stdout",
       "text": [
        "\r",
        "Episode 112\tAverage Score: 26.77\tScore: 31.24 (max 0.00) in 1001 steps"
       ]
      },
      {
       "output_type": "stream",
       "stream": "stdout",
       "text": [
        "\r",
        "Episode 113\tAverage Score: 27.04\tScore: 29.85 (max 0.00) in 1001 steps"
       ]
      },
      {
       "output_type": "stream",
       "stream": "stdout",
       "text": [
        "\r",
        "Episode 114\tAverage Score: 27.32\tScore: 32.15 (max 0.00) in 1001 steps"
       ]
      },
      {
       "output_type": "stream",
       "stream": "stdout",
       "text": [
        "\r",
        "Episode 115\tAverage Score: 27.64\tScore: 35.21 (max 0.00) in 1001 steps"
       ]
      },
      {
       "output_type": "stream",
       "stream": "stdout",
       "text": [
        "\r",
        "Episode 116\tAverage Score: 27.93\tScore: 34.03 (max 0.00) in 1001 steps"
       ]
      },
      {
       "output_type": "stream",
       "stream": "stdout",
       "text": [
        "\r",
        "Episode 117\tAverage Score: 28.20\tScore: 31.53 (max 0.00) in 1001 steps"
       ]
      },
      {
       "output_type": "stream",
       "stream": "stdout",
       "text": [
        "\r",
        "Episode 118\tAverage Score: 28.47\tScore: 30.58 (max 0.00) in 1001 steps"
       ]
      },
      {
       "output_type": "stream",
       "stream": "stdout",
       "text": [
        "\r",
        "Episode 119\tAverage Score: 28.67\tScore: 24.96 (max 0.00) in 1001 steps"
       ]
      },
      {
       "output_type": "stream",
       "stream": "stdout",
       "text": [
        "\r",
        "Episode 120\tAverage Score: 28.87\tScore: 26.54 (max 0.00) in 1001 steps"
       ]
      },
      {
       "output_type": "stream",
       "stream": "stdout",
       "text": [
        "\r",
        "Episode 121\tAverage Score: 29.11\tScore: 30.41 (max 0.00) in 1001 steps"
       ]
      },
      {
       "output_type": "stream",
       "stream": "stdout",
       "text": [
        "\r",
        "Episode 122\tAverage Score: 29.40\tScore: 35.58 (max 0.00) in 1001 steps"
       ]
      },
      {
       "output_type": "stream",
       "stream": "stdout",
       "text": [
        "\r",
        "Episode 123\tAverage Score: 29.65\tScore: 31.97 (max 0.00) in 1001 steps"
       ]
      },
      {
       "output_type": "stream",
       "stream": "stdout",
       "text": [
        "\r",
        "Episode 124\tAverage Score: 29.90\tScore: 33.44 (max 0.00) in 1001 steps"
       ]
      },
      {
       "output_type": "stream",
       "stream": "stdout",
       "text": [
        "\r",
        "Episode 125\tAverage Score: 30.12\tScore: 30.82 (max 0.00) in 1001 steps\r",
        "Environment has been solved in 125 episode with average score 30.12\n"
       ]
      },
      {
       "output_type": "display_data",
       "png": "[encoded data removed]",
       "text": [
        "<Figure size 432x288 with 1 Axes>"
       ]
      },
      {
       "output_type": "stream",
       "stream": "stdout",
       "text": [
        "CPU times: user 27min 23s, sys: 20.6 s, total: 27min 44s\n",
        "Wall time: 36min 21s\n"
       ]
      }
     ],
     "prompt_number": 10
    },
    {
     "cell_type": "code",
     "collapsed": false,
     "input": [
      "# env_info = env.reset(train_mode=False)[brain_name]     # reset the environment    \n",
      "states = env_info.vector_observations[0]                  # get the current state (for each agent)\n",
      "score, t = 0, 0\n",
      "max_rewards = -999\n",
      "\n",
      "while True:\n",
      "    t += 1\n",
      "    actions = agent.act(states)\n",
      "    env_info = env.step(actions)[brain_name]\n",
      "    next_states = env_info.vector_observations[0]         # get next state (for each agent)\n",
      "    rewards = env_info.rewards[0]                         # get reward (for each agent)\n",
      "    dones = env_info.local_done                        # see if episode finished\n",
      "    score += rewards\n",
      "    if max_rewards < rewards:\n",
      "        max_rewards = rewards\n",
      "    print('\\rRewards {:.2f} (max {:.2f})\\tScore {:.2f} '.format(rewards, max_rewards, score), end='')\n",
      "    states = next_states                               # roll over states to next time step\n",
      "    if score >= 30:\n",
      "        print('\\rEnvironment is solved in {} steps with {:.2f} score.'.format(t, score))\n",
      "        break\n",
      "        \n",
      "    if np.any(dones):                                  # exit loop if episode finished\n",
      "        break\n",
      "        \n",
      "print('Total score (averaged over agents) this episode: {:.2f}'.format(score))"
     ],
     "language": "python",
     "metadata": {},
     "outputs": [
      {
       "ename": "UnityActionException",
       "evalue": "There was a mismatch between the provided action and environment's expectation: The brain ReacherBrain expected 80 continuous action(s), but was provided: [-0.7018384337425232, 1.0, 0.15273937582969666, 1.0]",
       "output_type": "pyerr",
       "traceback": [
        "\u001b[0;31m---------------------------------------------------------------------------\u001b[0m",
        "\u001b[0;31mUnityActionException\u001b[0m                      Traceback (most recent call last)",
        "\u001b[0;32m<ipython-input-11-88405017cf4f>\u001b[0m in \u001b[0;36m<module>\u001b[0;34m()\u001b[0m\n\u001b[1;32m      7\u001b[0m     \u001b[0mt\u001b[0m \u001b[0;34m+=\u001b[0m \u001b[0;36m1\u001b[0m\u001b[0;34m\u001b[0m\u001b[0m\n\u001b[1;32m      8\u001b[0m     \u001b[0mactions\u001b[0m \u001b[0;34m=\u001b[0m \u001b[0magent\u001b[0m\u001b[0;34m.\u001b[0m\u001b[0mact\u001b[0m\u001b[0;34m(\u001b[0m\u001b[0mstates\u001b[0m\u001b[0;34m)\u001b[0m\u001b[0;34m\u001b[0m\u001b[0m\n\u001b[0;32m----> 9\u001b[0;31m     \u001b[0menv_info\u001b[0m \u001b[0;34m=\u001b[0m \u001b[0menv\u001b[0m\u001b[0;34m.\u001b[0m\u001b[0mstep\u001b[0m\u001b[0;34m(\u001b[0m\u001b[0mactions\u001b[0m\u001b[0;34m)\u001b[0m\u001b[0;34m[\u001b[0m\u001b[0mbrain_name\u001b[0m\u001b[0;34m]\u001b[0m\u001b[0;34m\u001b[0m\u001b[0m\n\u001b[0m\u001b[1;32m     10\u001b[0m     \u001b[0mnext_states\u001b[0m \u001b[0;34m=\u001b[0m \u001b[0menv_info\u001b[0m\u001b[0;34m.\u001b[0m\u001b[0mvector_observations\u001b[0m\u001b[0;34m[\u001b[0m\u001b[0;36m0\u001b[0m\u001b[0;34m]\u001b[0m         \u001b[0;31m# get next state (for each agent)\u001b[0m\u001b[0;34m\u001b[0m\u001b[0m\n\u001b[1;32m     11\u001b[0m     \u001b[0mrewards\u001b[0m \u001b[0;34m=\u001b[0m \u001b[0menv_info\u001b[0m\u001b[0;34m.\u001b[0m\u001b[0mrewards\u001b[0m\u001b[0;34m[\u001b[0m\u001b[0;36m0\u001b[0m\u001b[0;34m]\u001b[0m                         \u001b[0;31m# get reward (for each agent)\u001b[0m\u001b[0;34m\u001b[0m\u001b[0m\n",
        "\u001b[0;32m~/anaconda3/envs/pytorch_p36/lib/python3.6/site-packages/unityagents/environment.py\u001b[0m in \u001b[0;36mstep\u001b[0;34m(self, vector_action, memory, text_action)\u001b[0m\n\u001b[1;32m    364\u001b[0m                         \u001b[0mstr\u001b[0m\u001b[0;34m(\u001b[0m\u001b[0mself\u001b[0m\u001b[0;34m.\u001b[0m\u001b[0m_brains\u001b[0m\u001b[0;34m[\u001b[0m\u001b[0mb\u001b[0m\u001b[0;34m]\u001b[0m\u001b[0;34m.\u001b[0m\u001b[0mvector_action_space_size\u001b[0m \u001b[0;34m*\u001b[0m \u001b[0mn_agent\u001b[0m\u001b[0;34m)\u001b[0m\u001b[0;34m,\u001b[0m\u001b[0;34m\u001b[0m\u001b[0m\n\u001b[1;32m    365\u001b[0m                         \u001b[0mself\u001b[0m\u001b[0;34m.\u001b[0m\u001b[0m_brains\u001b[0m\u001b[0;34m[\u001b[0m\u001b[0mb\u001b[0m\u001b[0;34m]\u001b[0m\u001b[0;34m.\u001b[0m\u001b[0mvector_action_space_type\u001b[0m\u001b[0;34m,\u001b[0m\u001b[0;34m\u001b[0m\u001b[0m\n\u001b[0;32m--> 366\u001b[0;31m                         str(vector_action[b])))\n\u001b[0m\u001b[1;32m    367\u001b[0m \u001b[0;34m\u001b[0m\u001b[0m\n\u001b[1;32m    368\u001b[0m             outputs = self.communicator.exchange(\n",
        "\u001b[0;31mUnityActionException\u001b[0m: There was a mismatch between the provided action and environment's expectation: The brain ReacherBrain expected 80 continuous action(s), but was provided: [-0.7018384337425232, 1.0, 0.15273937582969666, 1.0]"
       ]
      }
     ],
     "prompt_number": 11
    },
    {
     "cell_type": "markdown",
     "metadata": {},
     "source": [
      "When finished, you can close the environment."
     ]
    },
    {
     "cell_type": "code",
     "collapsed": false,
     "input": [
      "# env.close()"
     ],
     "language": "python",
     "metadata": {},
     "outputs": [],
     "prompt_number": null
    }
   ],
   "metadata": {}
  }
 ]
}
